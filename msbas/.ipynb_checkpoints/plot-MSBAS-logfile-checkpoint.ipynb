{
 "cells": [
  {
   "cell_type": "code",
   "execution_count": 1,
   "id": "ba77df9f-6559-46b9-91b3-fe886bdf7c4e",
   "metadata": {},
   "outputs": [],
   "source": [
    "import numpy as np\n",
    "import matplotlib.pyplot as plt\n",
    "import pandas as pd\n",
    "import seaborn as sns"
   ]
  },
  {
   "cell_type": "code",
   "execution_count": 10,
   "id": "4a809efc-af92-4af4-8f33-98c9d01d5b30",
   "metadata": {},
   "outputs": [
    {
     "data": {
      "text/html": [
       "<div>\n",
       "<style scoped>\n",
       "    .dataframe tbody tr th:only-of-type {\n",
       "        vertical-align: middle;\n",
       "    }\n",
       "\n",
       "    .dataframe tbody tr th {\n",
       "        vertical-align: top;\n",
       "    }\n",
       "\n",
       "    .dataframe thead th {\n",
       "        text-align: right;\n",
       "    }\n",
       "</style>\n",
       "<table border=\"1\" class=\"dataframe\">\n",
       "  <thead>\n",
       "    <tr style=\"text-align: right;\">\n",
       "      <th></th>\n",
       "      <th>r</th>\n",
       "      <th>x</th>\n",
       "      <th>ax-y</th>\n",
       "    </tr>\n",
       "  </thead>\n",
       "  <tbody>\n",
       "    <tr>\n",
       "      <th>0</th>\n",
       "      <td>0.05</td>\n",
       "      <td>1.147214</td>\n",
       "      <td>0.129787</td>\n",
       "    </tr>\n",
       "    <tr>\n",
       "      <th>1</th>\n",
       "      <td>0.10</td>\n",
       "      <td>0.902828</td>\n",
       "      <td>0.143113</td>\n",
       "    </tr>\n",
       "    <tr>\n",
       "      <th>2</th>\n",
       "      <td>0.15</td>\n",
       "      <td>0.761273</td>\n",
       "      <td>0.151298</td>\n",
       "    </tr>\n",
       "    <tr>\n",
       "      <th>3</th>\n",
       "      <td>0.20</td>\n",
       "      <td>0.665411</td>\n",
       "      <td>0.156924</td>\n",
       "    </tr>\n",
       "    <tr>\n",
       "      <th>4</th>\n",
       "      <td>0.25</td>\n",
       "      <td>0.594107</td>\n",
       "      <td>0.161107</td>\n",
       "    </tr>\n",
       "    <tr>\n",
       "      <th>5</th>\n",
       "      <td>0.30</td>\n",
       "      <td>0.538152</td>\n",
       "      <td>0.164384</td>\n",
       "    </tr>\n",
       "    <tr>\n",
       "      <th>6</th>\n",
       "      <td>0.35</td>\n",
       "      <td>0.492819</td>\n",
       "      <td>0.167044</td>\n",
       "    </tr>\n",
       "    <tr>\n",
       "      <th>7</th>\n",
       "      <td>0.40</td>\n",
       "      <td>0.455314</td>\n",
       "      <td>0.169257</td>\n",
       "    </tr>\n",
       "    <tr>\n",
       "      <th>8</th>\n",
       "      <td>0.45</td>\n",
       "      <td>0.423796</td>\n",
       "      <td>0.171129</td>\n",
       "    </tr>\n",
       "    <tr>\n",
       "      <th>9</th>\n",
       "      <td>0.50</td>\n",
       "      <td>0.396969</td>\n",
       "      <td>0.172734</td>\n",
       "    </tr>\n",
       "    <tr>\n",
       "      <th>10</th>\n",
       "      <td>0.55</td>\n",
       "      <td>0.373877</td>\n",
       "      <td>0.174124</td>\n",
       "    </tr>\n",
       "    <tr>\n",
       "      <th>11</th>\n",
       "      <td>0.60</td>\n",
       "      <td>0.353801</td>\n",
       "      <td>0.175338</td>\n",
       "    </tr>\n",
       "    <tr>\n",
       "      <th>12</th>\n",
       "      <td>0.65</td>\n",
       "      <td>0.336185</td>\n",
       "      <td>0.176407</td>\n",
       "    </tr>\n",
       "    <tr>\n",
       "      <th>13</th>\n",
       "      <td>0.70</td>\n",
       "      <td>0.320596</td>\n",
       "      <td>0.177352</td>\n",
       "    </tr>\n",
       "    <tr>\n",
       "      <th>14</th>\n",
       "      <td>0.75</td>\n",
       "      <td>0.306695</td>\n",
       "      <td>0.178195</td>\n",
       "    </tr>\n",
       "    <tr>\n",
       "      <th>15</th>\n",
       "      <td>0.80</td>\n",
       "      <td>0.294213</td>\n",
       "      <td>0.178948</td>\n",
       "    </tr>\n",
       "    <tr>\n",
       "      <th>16</th>\n",
       "      <td>0.85</td>\n",
       "      <td>0.282932</td>\n",
       "      <td>0.179626</td>\n",
       "    </tr>\n",
       "    <tr>\n",
       "      <th>17</th>\n",
       "      <td>0.90</td>\n",
       "      <td>0.272679</td>\n",
       "      <td>0.180239</td>\n",
       "    </tr>\n",
       "    <tr>\n",
       "      <th>18</th>\n",
       "      <td>0.95</td>\n",
       "      <td>0.263311</td>\n",
       "      <td>0.180794</td>\n",
       "    </tr>\n",
       "    <tr>\n",
       "      <th>19</th>\n",
       "      <td>1.00</td>\n",
       "      <td>0.254712</td>\n",
       "      <td>0.181300</td>\n",
       "    </tr>\n",
       "    <tr>\n",
       "      <th>20</th>\n",
       "      <td>1.05</td>\n",
       "      <td>0.246785</td>\n",
       "      <td>0.181762</td>\n",
       "    </tr>\n",
       "  </tbody>\n",
       "</table>\n",
       "</div>"
      ],
      "text/plain": [
       "       r         x      ax-y\n",
       "0   0.05  1.147214  0.129787\n",
       "1   0.10  0.902828  0.143113\n",
       "2   0.15  0.761273  0.151298\n",
       "3   0.20  0.665411  0.156924\n",
       "4   0.25  0.594107  0.161107\n",
       "5   0.30  0.538152  0.164384\n",
       "6   0.35  0.492819  0.167044\n",
       "7   0.40  0.455314  0.169257\n",
       "8   0.45  0.423796  0.171129\n",
       "9   0.50  0.396969  0.172734\n",
       "10  0.55  0.373877  0.174124\n",
       "11  0.60  0.353801  0.175338\n",
       "12  0.65  0.336185  0.176407\n",
       "13  0.70  0.320596  0.177352\n",
       "14  0.75  0.306695  0.178195\n",
       "15  0.80  0.294213  0.178948\n",
       "16  0.85  0.282932  0.179626\n",
       "17  0.90  0.272679  0.180239\n",
       "18  0.95  0.263311  0.180794\n",
       "19  1.00  0.254712  0.181300\n",
       "20  1.05  0.246785  0.181762"
      ]
     },
     "execution_count": 10,
     "metadata": {},
     "output_type": "execute_result"
    }
   ],
   "source": [
    "df = pd.read_csv('logList.txt', delimiter = '\\s+', usecols = [0, 6, 7], names = ['r', 'x', 'ax-y'])\n",
    "df"
   ]
  },
  {
   "cell_type": "code",
   "execution_count": 49,
   "id": "ce9b0d12-e73c-43b3-b05e-7a30573fdf32",
   "metadata": {},
   "outputs": [],
   "source": [
    "# Compute a least-squares fit to data\n",
    "fit = np.polynomial.Polynomial.fit(df['ax-y'], df['x'], 2, domain = [df['ax-y'].min(), df['ax-y'].max()])\n",
    "\n",
    "# Interpolate the fit to some points in our domain\n",
    "n = 100\n",
    "points = fit.linspace(n)"
   ]
  },
  {
   "cell_type": "code",
   "execution_count": 56,
   "id": "56ee60e7-110d-45fd-8e5b-b569059bc9a7",
   "metadata": {},
   "outputs": [
    {
     "data": {
      "image/png": "[encoded data removed]",
      "text/plain": [
       "<Figure size 432x432 with 1 Axes>"
      ]
     },
     "metadata": {},
     "output_type": "display_data"
    }
   ],
   "source": [
    "sns.set_theme(style = 'ticks')\n",
    "fig, ax = plt.subplots(figsize = (6, 6))\n",
    "\n",
    "ax.plot(points[0], points[1], color = 'k', alpha = 0.5)\n",
    "sns.scatterplot(data = df, x = 'ax-y', y = 'x', hue = 'r', ax = ax, palette = 'flare')\n",
    "ax.set_yscale('log')\n",
    "ax.set_xscale('log')\n",
    "plt.legend()\n",
    "plt.show()"
   ]
  },
  {
   "cell_type": "code",
   "execution_count": 85,
   "id": "38224463-113a-4554-9f26-8c3fe73173fc",
   "metadata": {},
   "outputs": [
    {
     "name": "stdout",
     "output_type": "stream",
     "text": [
      "Critical ax-y value is 0.13\n"
     ]
    }
   ],
   "source": [
    "# Take the derivative of our fitted polynomial\n",
    "derivative = fit.deriv()\n",
    "\n",
    "# Interpolate the derivative to points\n",
    "dy_points = derivative.linspace(n)\n",
    "\n",
    "# Find the index where the derivative is greatest\n",
    "index = np.argmin(np.abs(np.abs(dy_points[1]).max() - np.abs(dy_points[1])))\n",
    "\n",
    "# Translate the index into ax-y space\n",
    "axy_crit = dy_points[0][index]\n",
    "print('Critical ax-y value is ' + str(np.round(axy_crit, 3)))"
   ]
  },
  {
   "cell_type": "code",
   "execution_count": 82,
   "id": "d8010bb6-4732-4e75-8b9a-cea09a9ee4b5",
   "metadata": {},
   "outputs": [
    {
     "data": {
      "image/png": "[encoded data removed]",
      "text/plain": [
       "<Figure size 432x288 with 1 Axes>"
      ]
     },
     "metadata": {},
     "output_type": "display_data"
    }
   ],
   "source": [
    "plt.plot(dy_points[0], dy_points[1])\n",
    "plt.scatter(critical_axy, dy_points[1][index], color = 'red', label = 'Critical value')\n",
    "plt.xlabel('ax-y')\n",
    "plt.ylabel('$\\\\frac{d}{d(ax-y)}$ fit')\n",
    "plt.legend()\n",
    "plt.show()"
   ]
  },
  {
   "cell_type": "code",
   "execution_count": 83,
   "id": "8853ff19-c43c-476a-9c06-747f341b94dd",
   "metadata": {},
   "outputs": [],
   "source": [
    "# Find the x, ax-y, and r-values where the derivative is steepest\n",
    "r_crit = df['r'][index]\n",
    "x_crit = df['x'][index]"
   ]
  },
  {
   "cell_type": "code",
   "execution_count": 106,
   "id": "0fc79063-b699-40f5-89c6-84915c06f3f6",
   "metadata": {},
   "outputs": [
    {
     "data": {
      "image/png": "[encoded data removed]",
      "text/plain": [
       "<Figure size 432x432 with 1 Axes>"
      ]
     },
     "metadata": {},
     "output_type": "display_data"
    }
   ],
   "source": [
    "# Plot everything together\n",
    "sns.set_theme(style = 'ticks')\n",
    "fig, ax = plt.subplots(figsize = (6, 6))\n",
    "\n",
    "ax.plot(points[0], points[1], color = 'k', alpha = 0.5)\n",
    "sns.scatterplot(data = df, x = 'ax-y', y = 'x', hue = 'r', ax = ax, palette = 'flare')\n",
    "\n",
    "ax.plot(axy_crit, x_crit, marker = 'o', fillstyle = 'none', color = 'red', markersize = 10, label = 'critical value')\n",
    "\n",
    "ax.set_yscale('log')\n",
    "ax.set_xscale('log')\n",
    "plt.legend()\n",
    "plt.show()"
   ]
  },
  {
   "cell_type": "code",
   "execution_count": 86,
   "id": "3768a5af-ae33-4dbe-bc1c-71341dc8a292",
   "metadata": {},
   "outputs": [
    {
     "name": "stdout",
     "output_type": "stream",
     "text": [
      "Critical ax-y-value is 0.13\n",
      "Critical x-value is 1.147\n",
      "Critical r-value is 0.05\n"
     ]
    }
   ],
   "source": [
    "print('Critical ax-y-value is ' + str(np.round(axy_crit, 3)))\n",
    "print('Critical x-value is ' + str(np.round(x_crit, 3)))\n",
    "print('Critical r-value is ' + str(np.round(r_crit, 3)))"
   ]
  }
 ],
 "metadata": {
  "kernelspec": {
   "display_name": "Python 3 (ipykernel)",
   "language": "python",
   "name": "python3"
  },
  "language_info": {
   "codemirror_mode": {
    "name": "ipython",
    "version": 3
   },
   "file_extension": ".py",
   "mimetype": "text/x-python",
   "name": "python",
   "nbconvert_exporter": "python",
   "pygments_lexer": "ipython3",
   "version": "3.7.10"
  }
 },
 "nbformat": 4,
 "nbformat_minor": 5
}
